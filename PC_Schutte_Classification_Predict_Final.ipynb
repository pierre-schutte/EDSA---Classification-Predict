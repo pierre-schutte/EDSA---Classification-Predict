{
 "cells": [
  {
   "cell_type": "markdown",
   "id": "9467aa2c-199f-4d76-a1c8-57913ed1d1f3",
   "metadata": {},
   "source": [
    "# Classification: Predict Jumpstarter"
   ]
  },
  {
   "cell_type": "markdown",
   "id": "df3b3f76-3bd7-44df-a60f-690898366580",
   "metadata": {},
   "source": [
    "## Table of Contents\n",
    "\n",
    "1. Importing Packages\n",
    "\n",
    "2. Loading Data\n",
    "\n",
    "3. Exploratory Data Analysis (EDA)\n",
    "\n",
    "4. Feature Engineering\n",
    "  \n",
    "6. Modeling\n",
    "\n",
    "7. Model Performance\n",
    "\n",
    "8. Model Explanations"
   ]
  },
  {
   "cell_type": "markdown",
   "id": "8d08e51d-e93d-4ad8-9673-45041911b37a",
   "metadata": {},
   "source": [
    "---"
   ]
  },
  {
   "cell_type": "markdown",
   "id": "80499ef0-63d1-4011-9edc-5573efa63599",
   "metadata": {},
   "source": [
    "## 1. Importing Packages"
   ]
  },
  {
   "cell_type": "code",
   "execution_count": 1,
   "id": "359fe194-6a79-4351-9b79-3403038df7bd",
   "metadata": {},
   "outputs": [],
   "source": [
    "import numpy as np\n",
    "import pandas as pd\n",
    "import matplotlib.pyplot as plt\n",
    "from nltk.tokenize import TreebankWordTokenizer\n",
    "from sklearn.model_selection import train_test_split, GridSearchCV\n",
    "from sklearn.linear_model import LogisticRegression\n",
    "from sklearn.preprocessing import StandardScaler\n",
    "from sklearn.metrics import f1_score, precision_score, recall_score, accuracy_score, confusion_matrix"
   ]
  },
  {
   "cell_type": "markdown",
   "id": "9d194c6a-660b-4f30-a5b7-84e6b5786b48",
   "metadata": {},
   "source": [
    "---"
   ]
  },
  {
   "cell_type": "markdown",
   "id": "f4c884aa-1971-47cc-9838-5416177556f0",
   "metadata": {},
   "source": [
    "## 2. Loading the Data"
   ]
  },
  {
   "cell_type": "code",
   "execution_count": 2,
   "id": "04c77ac6-0ce3-42bd-b3d1-1c9bd9ab21ef",
   "metadata": {},
   "outputs": [],
   "source": [
    "train = pd.read_csv('train.csv')\n",
    "test = pd.read_csv('test_with_no_labels.csv')"
   ]
  },
  {
   "cell_type": "code",
   "execution_count": 3,
   "id": "3b72396f-4aa5-4fc6-af6f-46b5c7a592b6",
   "metadata": {},
   "outputs": [
    {
     "data": {
      "text/html": [
       "<div>\n",
       "<style scoped>\n",
       "    .dataframe tbody tr th:only-of-type {\n",
       "        vertical-align: middle;\n",
       "    }\n",
       "\n",
       "    .dataframe tbody tr th {\n",
       "        vertical-align: top;\n",
       "    }\n",
       "\n",
       "    .dataframe thead th {\n",
       "        text-align: right;\n",
       "    }\n",
       "</style>\n",
       "<table border=\"1\" class=\"dataframe\">\n",
       "  <thead>\n",
       "    <tr style=\"text-align: right;\">\n",
       "      <th></th>\n",
       "      <th>sentiment</th>\n",
       "      <th>message</th>\n",
       "      <th>tweetid</th>\n",
       "    </tr>\n",
       "  </thead>\n",
       "  <tbody>\n",
       "    <tr>\n",
       "      <th>0</th>\n",
       "      <td>1</td>\n",
       "      <td>PolySciMajor EPA chief doesn't think carbon di...</td>\n",
       "      <td>625221</td>\n",
       "    </tr>\n",
       "    <tr>\n",
       "      <th>1</th>\n",
       "      <td>1</td>\n",
       "      <td>It's not like we lack evidence of anthropogeni...</td>\n",
       "      <td>126103</td>\n",
       "    </tr>\n",
       "    <tr>\n",
       "      <th>2</th>\n",
       "      <td>2</td>\n",
       "      <td>RT @RawStory: Researchers say we have three ye...</td>\n",
       "      <td>698562</td>\n",
       "    </tr>\n",
       "    <tr>\n",
       "      <th>3</th>\n",
       "      <td>1</td>\n",
       "      <td>#TodayinMaker# WIRED : 2016 was a pivotal year...</td>\n",
       "      <td>573736</td>\n",
       "    </tr>\n",
       "    <tr>\n",
       "      <th>4</th>\n",
       "      <td>1</td>\n",
       "      <td>RT @SoyNovioDeTodas: It's 2016, and a racist, ...</td>\n",
       "      <td>466954</td>\n",
       "    </tr>\n",
       "  </tbody>\n",
       "</table>\n",
       "</div>"
      ],
      "text/plain": [
       "   sentiment                                            message  tweetid\n",
       "0          1  PolySciMajor EPA chief doesn't think carbon di...   625221\n",
       "1          1  It's not like we lack evidence of anthropogeni...   126103\n",
       "2          2  RT @RawStory: Researchers say we have three ye...   698562\n",
       "3          1  #TodayinMaker# WIRED : 2016 was a pivotal year...   573736\n",
       "4          1  RT @SoyNovioDeTodas: It's 2016, and a racist, ...   466954"
      ]
     },
     "execution_count": 3,
     "metadata": {},
     "output_type": "execute_result"
    }
   ],
   "source": [
    "train.head()"
   ]
  },
  {
   "cell_type": "code",
   "execution_count": 4,
   "id": "e89789e6-78f1-4e5d-ac36-f0a5de15b961",
   "metadata": {},
   "outputs": [
    {
     "data": {
      "text/html": [
       "<div>\n",
       "<style scoped>\n",
       "    .dataframe tbody tr th:only-of-type {\n",
       "        vertical-align: middle;\n",
       "    }\n",
       "\n",
       "    .dataframe tbody tr th {\n",
       "        vertical-align: top;\n",
       "    }\n",
       "\n",
       "    .dataframe thead th {\n",
       "        text-align: right;\n",
       "    }\n",
       "</style>\n",
       "<table border=\"1\" class=\"dataframe\">\n",
       "  <thead>\n",
       "    <tr style=\"text-align: right;\">\n",
       "      <th></th>\n",
       "      <th>message</th>\n",
       "      <th>tweetid</th>\n",
       "    </tr>\n",
       "  </thead>\n",
       "  <tbody>\n",
       "    <tr>\n",
       "      <th>0</th>\n",
       "      <td>Europe will now be looking to China to make su...</td>\n",
       "      <td>169760</td>\n",
       "    </tr>\n",
       "    <tr>\n",
       "      <th>1</th>\n",
       "      <td>Combine this with the polling of staffers re c...</td>\n",
       "      <td>35326</td>\n",
       "    </tr>\n",
       "    <tr>\n",
       "      <th>2</th>\n",
       "      <td>The scary, unimpeachable evidence that climate...</td>\n",
       "      <td>224985</td>\n",
       "    </tr>\n",
       "    <tr>\n",
       "      <th>3</th>\n",
       "      <td>@Karoli @morgfair @OsborneInk @dailykos \\nPuti...</td>\n",
       "      <td>476263</td>\n",
       "    </tr>\n",
       "    <tr>\n",
       "      <th>4</th>\n",
       "      <td>RT @FakeWillMoore: 'Female orgasms cause globa...</td>\n",
       "      <td>872928</td>\n",
       "    </tr>\n",
       "  </tbody>\n",
       "</table>\n",
       "</div>"
      ],
      "text/plain": [
       "                                             message  tweetid\n",
       "0  Europe will now be looking to China to make su...   169760\n",
       "1  Combine this with the polling of staffers re c...    35326\n",
       "2  The scary, unimpeachable evidence that climate...   224985\n",
       "3  @Karoli @morgfair @OsborneInk @dailykos \\nPuti...   476263\n",
       "4  RT @FakeWillMoore: 'Female orgasms cause globa...   872928"
      ]
     },
     "execution_count": 4,
     "metadata": {},
     "output_type": "execute_result"
    }
   ],
   "source": [
    "test.head()"
   ]
  },
  {
   "cell_type": "markdown",
   "id": "b38952e2-70a5-4037-8aea-3f371f02d348",
   "metadata": {},
   "source": [
    "---"
   ]
  },
  {
   "cell_type": "markdown",
   "id": "00ca1b60-c8fc-4ce4-977b-6db48cbefbe1",
   "metadata": {},
   "source": [
    "## 3. Exploratory Data Analysis (EDA)"
   ]
  },
  {
   "cell_type": "code",
   "execution_count": 5,
   "id": "397ecfb4-d98b-41d0-8974-8701133537d4",
   "metadata": {},
   "outputs": [
    {
     "data": {
      "text/plain": [
       "sentiment    0\n",
       "message      0\n",
       "tweetid      0\n",
       "dtype: int64"
      ]
     },
     "execution_count": 5,
     "metadata": {},
     "output_type": "execute_result"
    }
   ],
   "source": [
    "train.isnull().sum()"
   ]
  },
  {
   "cell_type": "code",
   "execution_count": 6,
   "id": "c483d802-2ddf-4914-a8cc-c683e9b55acc",
   "metadata": {},
   "outputs": [
    {
     "data": {
      "text/plain": [
       "message    0\n",
       "tweetid    0\n",
       "dtype: int64"
      ]
     },
     "execution_count": 6,
     "metadata": {},
     "output_type": "execute_result"
    }
   ],
   "source": [
    "test.isnull().sum()"
   ]
  },
  {
   "cell_type": "code",
   "execution_count": 7,
   "id": "c5c82dcf-6b20-4c7d-8305-edd0dd6a113b",
   "metadata": {},
   "outputs": [
    {
     "name": "stdout",
     "output_type": "stream",
     "text": [
      "<class 'pandas.core.frame.DataFrame'>\n",
      "RangeIndex: 15819 entries, 0 to 15818\n",
      "Data columns (total 3 columns):\n",
      " #   Column     Non-Null Count  Dtype \n",
      "---  ------     --------------  ----- \n",
      " 0   sentiment  15819 non-null  int64 \n",
      " 1   message    15819 non-null  object\n",
      " 2   tweetid    15819 non-null  int64 \n",
      "dtypes: int64(2), object(1)\n",
      "memory usage: 370.9+ KB\n"
     ]
    }
   ],
   "source": [
    "train.info()"
   ]
  },
  {
   "cell_type": "code",
   "execution_count": 8,
   "id": "59122f91-700d-403f-b148-742376fec87e",
   "metadata": {},
   "outputs": [
    {
     "name": "stdout",
     "output_type": "stream",
     "text": [
      "<class 'pandas.core.frame.DataFrame'>\n",
      "RangeIndex: 10546 entries, 0 to 10545\n",
      "Data columns (total 2 columns):\n",
      " #   Column   Non-Null Count  Dtype \n",
      "---  ------   --------------  ----- \n",
      " 0   message  10546 non-null  object\n",
      " 1   tweetid  10546 non-null  int64 \n",
      "dtypes: int64(1), object(1)\n",
      "memory usage: 164.9+ KB\n"
     ]
    }
   ],
   "source": [
    "test.info()"
   ]
  },
  {
   "cell_type": "code",
   "execution_count": 9,
   "id": "01a8e8b3-d08b-4a75-a5ce-a74a4e364a79",
   "metadata": {},
   "outputs": [
    {
     "data": {
      "text/plain": [
       "15819"
      ]
     },
     "execution_count": 9,
     "metadata": {},
     "output_type": "execute_result"
    }
   ],
   "source": [
    "train['tweetid'].nunique()"
   ]
  },
  {
   "cell_type": "code",
   "execution_count": 10,
   "id": "eabc1ad8-972e-4ed9-93fd-61cb347ed7ac",
   "metadata": {},
   "outputs": [
    {
     "data": {
      "text/plain": [
       "1296"
      ]
     },
     "execution_count": 10,
     "metadata": {},
     "output_type": "execute_result"
    }
   ],
   "source": [
    "negative_count = (train['sentiment'] == -1).sum()\n",
    "negative_count"
   ]
  },
  {
   "cell_type": "code",
   "execution_count": 11,
   "id": "d96f7a70-da34-4a29-9ee7-eddf7a92a3f8",
   "metadata": {},
   "outputs": [
    {
     "data": {
      "image/png": "[encoded data removed]",
      "text/plain": [
       "<Figure size 432x288 with 1 Axes>"
      ]
     },
     "metadata": {
      "needs_background": "light"
     },
     "output_type": "display_data"
    }
   ],
   "source": [
    "import matplotlib.pyplot as plt\n",
    "\n",
    "# Count occurrences for each sentiment value\n",
    "negative_count = (train['sentiment'] == -1).sum()\n",
    "neutral_count = (train['sentiment'] == 0).sum()\n",
    "positive_count = (train['sentiment'] == 1).sum()\n",
    "positive_count2 = (train['sentiment'] == 2).sum()\n",
    "\n",
    "\n",
    "# Data for the histogram\n",
    "counts = [negative_count, neutral_count, positive_count, positive_count2]\n",
    "sentiments = [-1, 0, 1, 2]\n",
    "\n",
    "# Plot the histogram\n",
    "plt.bar(sentiments, counts, color=['red', 'grey', 'green', 'blue'])\n",
    "plt.xlabel('Sentiment')\n",
    "plt.ylabel('Count')\n",
    "plt.title('Sentiment Distribution in the Training Data')\n",
    "plt.show()\n"
   ]
  },
  {
   "cell_type": "markdown",
   "id": "e0eeffd0-b43e-4692-9067-ee78258cac57",
   "metadata": {},
   "source": [
    "## Word cloud.....?"
   ]
  },
  {
   "cell_type": "markdown",
   "id": "e17384fd",
   "metadata": {},
   "source": [
    "### Sentiment Definitions (from Kaggle)\n",
    "\n",
    "#### 2 News: the tweet links to factual news about climate change\n",
    "\n",
    "#### 1 Pro: the tweet supports the belief of man-made climate change\n",
    "\n",
    "#### 0 Neutral: the tweet neither supports nor refutes the belief of man-made climate change\n",
    "\n",
    "#### -1 Anti: the tweet does not believe in man-made climate change"
   ]
  },
  {
   "cell_type": "markdown",
   "id": "320ce0be-bbf8-46ec-9d6f-168e91f3d056",
   "metadata": {},
   "source": [
    "What we notice is that we have imbalanced data. What would your next steps be in this example?"
   ]
  },
  {
   "cell_type": "markdown",
   "id": "e9087b03-bf3b-483d-a4f2-c74faeae3fba",
   "metadata": {},
   "source": [
    "---"
   ]
  },
  {
   "cell_type": "markdown",
   "id": "63c37035-8ab6-457a-85cb-2e6838a1fa46",
   "metadata": {},
   "source": [
    "## 4. Feature Engineering"
   ]
  },
  {
   "cell_type": "markdown",
   "id": "639342f3-e549-4ae6-a7a3-38ff223bb3a1",
   "metadata": {},
   "source": [
    "#### Natural Language Processing"
   ]
  },
  {
   "cell_type": "markdown",
   "id": "74fafcb5-9155-418b-8876-fbd1337f83f7",
   "metadata": {},
   "source": [
    "#### Lowercasing & Removing Punctuation"
   ]
  },
  {
   "cell_type": "code",
   "execution_count": 12,
   "id": "4c80f519",
   "metadata": {},
   "outputs": [],
   "source": [
    "import string\n",
    "\n",
    "#Remove punctuation and lowercase the words\n",
    "def remove_punctuation(long_str):\n",
    "    # Lowercase the word\n",
    "    long_str = long_str.lower()\n",
    "    #Had to add manually removing certain words since they don't add anything \n",
    "    #(such as amp and link with http in)\n",
    "    long_str.replace('http','').replace('amp','').replace('www','').replace('https','')\n",
    "    return ''.join([x for x in long_str if (x in string.ascii_lowercase)|(x == ' ')])"
   ]
  },
  {
   "cell_type": "markdown",
   "id": "c498d16c-adad-46be-a63b-6d65c0507b0b",
   "metadata": {},
   "source": [
    "#### Tokenization \n",
    "(tokenisation of text was done as part of the combined process since it is a single step)"
   ]
  },
  {
   "cell_type": "markdown",
   "id": "2cf466f8-965f-471e-b94a-be5943db7b3e",
   "metadata": {},
   "source": [
    "#### Lemmatization & Stemming"
   ]
  },
  {
   "cell_type": "code",
   "execution_count": 14,
   "id": "6d293854",
   "metadata": {},
   "outputs": [
    {
     "name": "stderr",
     "output_type": "stream",
     "text": [
      "[nltk_data] Downloading package wordnet to /home/schup001/nltk_data...\n",
      "[nltk_data]   Package wordnet is already up-to-date!\n",
      "[nltk_data] Downloading package omw-1.4 to /home/schup001/nltk_data...\n",
      "[nltk_data]   Package omw-1.4 is already up-to-date!\n"
     ]
    }
   ],
   "source": [
    "import nltk\n",
    "nltk.download('wordnet')\n",
    "nltk.download('omw-1.4')\n",
    "\n",
    "from nltk import SnowballStemmer\n",
    "from nltk.stem import WordNetLemmatizer\n",
    "\n",
    "# Set up lemmatizatier \n",
    "lemmatizer = WordNetLemmatizer()\n",
    "\n",
    "# Set up Stemmer - (finds base form of word)\n",
    "stemmer = SnowballStemmer('english')\n",
    "\n",
    "# Return base stem/lemmatized form of a word\n",
    "def get_base(tokens, option = 'lemmatize'): \n",
    "    #The base form uses lemmatization since it gets the base \n",
    "    #form where stemming gets the form without affixes and prefixes, \n",
    "    #the base form contains more information than a simply stripped form\n",
    "    base_tokens = []\n",
    "    if option == 'lemmatize': #Use lemmatization to build word dictionary\n",
    "        base_tokens = [lemmatizer.lemmatize(token) for token in tokens]\n",
    "    else: #Use Stemming to build word dictionary\n",
    "        base_tokens = [stemmer.stem(token) for token in tokens]\n",
    "    return base_tokens"
   ]
  },
  {
   "cell_type": "markdown",
   "id": "8501bd13-2d51-41a5-a452-f07be66b5cf2",
   "metadata": {},
   "source": [
    "#### Stop words"
   ]
  },
  {
   "cell_type": "code",
   "execution_count": 15,
   "id": "9b1768e1",
   "metadata": {},
   "outputs": [
    {
     "name": "stderr",
     "output_type": "stream",
     "text": [
      "[nltk_data] Downloading package stopwords to\n",
      "[nltk_data]     /home/schup001/nltk_data...\n",
      "[nltk_data]   Package stopwords is already up-to-date!\n"
     ]
    }
   ],
   "source": [
    "nltk.download('stopwords')\n",
    "from nltk.corpus import stopwords\n",
    "\n",
    "# Remove stopwords - we only want words that affect meaning and convey information, stop words generatlly don't \n",
    "def remove_stopwords(tokens):\n",
    "    return [t for t in tokens if (t not in stopwords.words('english'))]"
   ]
  },
  {
   "cell_type": "markdown",
   "id": "3ea5ff21",
   "metadata": {},
   "source": [
    "#### Combined Processes"
   ]
  },
  {
   "cell_type": "code",
   "execution_count": 16,
   "id": "5b45fe08",
   "metadata": {},
   "outputs": [
    {
     "name": "stdout",
     "output_type": "stream",
     "text": [
      "   sentiment                                            message  tweetid  \\\n",
      "0          1  PolySciMajor EPA chief doesn't think carbon di...   625221   \n",
      "1          1  It's not like we lack evidence of anthropogeni...   126103   \n",
      "2          2  RT @RawStory: Researchers say we have three ye...   698562   \n",
      "3          1  #TodayinMaker# WIRED : 2016 was a pivotal year...   573736   \n",
      "4          1  RT @SoyNovioDeTodas: It's 2016, and a racist, ...   466954   \n",
      "\n",
      "                                              tokens  \n",
      "0  [polyscimajor, epa, chief, doesnt, think, carb...  \n",
      "1  [it, not, like, we, lack, evidence, of, anthro...  \n",
      "2  [rt, rawstory, researcher, say, we, have, thre...  \n",
      "3  [todayinmaker, wired, wa, a, pivotal, year, in...  \n",
      "4  [rt, soynoviodetodas, it, and, a, racist, sexi...  \n"
     ]
    }
   ],
   "source": [
    "# Set up word Tokenizer\n",
    "tokeniser = TreebankWordTokenizer()\n",
    "\n",
    "# Apply process to dataframe entries \n",
    "# 1. Lowercase and remove punctuation from string\n",
    "# 2. Tokenise string - returns an array of 'tokens' (effectively words)\n",
    "# 3. Remove stopwords from token array - (had to scrap it since it decreased accuracy)\n",
    "# 4. Get base forms of words - lemmatize or get stem of tokens \n",
    "def tokens_from_dataframe(df,column):\n",
    "    new_col = []\n",
    "    for index, row in df.iterrows():\n",
    "        words_str = row[column]\n",
    "        words = remove_punctuation(words_str)\n",
    "        # Tokenize the data - convert string to indivisual words or 'tokens'\n",
    "        tokens = tokeniser.tokenize(words)\n",
    "        # I removed the stopword removing code, this is due to stopwords containing negatives etc which \n",
    "        # completely change the context of a tweet\n",
    "        #tokens = remove_stopwords(tokens)\n",
    "        tokens = get_base(tokens)\n",
    "        new_col.append(tokens)\n",
    "    df['tokens'] = new_col\n",
    "    return df \n",
    "\n",
    "df_train = tokens_from_dataframe(train,'message')\n",
    "print(df_train.head())"
   ]
  },
  {
   "cell_type": "markdown",
   "id": "e420a6dc-d628-44ca-8ba0-af7dc3e3c424",
   "metadata": {},
   "source": [
    "---"
   ]
  },
  {
   "cell_type": "markdown",
   "id": "04701857-1cb9-4c62-a492-9dfd30a893a1",
   "metadata": {},
   "source": [
    "## Scikit-learn"
   ]
  },
  {
   "cell_type": "markdown",
   "id": "81b8997e",
   "metadata": {},
   "source": [
    "#### TF-IDF (Term Frequency - Inverse Document Frequency)"
   ]
  },
  {
   "cell_type": "code",
   "execution_count": 23,
   "id": "e1a69658-821e-4aa7-a9cb-5fa63b338447",
   "metadata": {},
   "outputs": [],
   "source": [
    "from sklearn.feature_extraction.text import TfidfVectorizer\n",
    "# Get TF-IDF value\n",
    "def apply_vectorising(df,column,target_column,max_feat = 2000,n_grams = (1,2)):\n",
    "    text_from_tokens = []\n",
    "    for index, row in df.iterrows():\n",
    "        text_from_tokens.append(\" \".join(row[column]))\n",
    "    column = column+'_full_str'\n",
    "    df[column] = text_from_tokens\n",
    "    # Create a TF-IDF vectoriser instance\n",
    "    vectorizer = TfidfVectorizer(#smooth_idf=True,\n",
    "                                 #use_idf=True,\n",
    "                                 #max_features=max_feat,\n",
    "                                 ngram_range = n_grams)\n",
    "    temp = vectorizer.fit_transform(df[column])\n",
    "    return temp,vectorizer\n",
    "\n",
    "tfidf,tfidf_vectorizer = apply_vectorising(df_train,'tokens','sentiment', n_grams = (1,2))"
   ]
  },
  {
   "cell_type": "markdown",
   "id": "12e039ff",
   "metadata": {},
   "source": [
    "Are there any other vectorisers you know of that you can use?\n",
    "\n",
    "What kind of hyperparameters can you set with vectorisers?"
   ]
  },
  {
   "cell_type": "code",
   "execution_count": 24,
   "id": "2269f159-a91b-4700-bff7-af9b85d2f9d2",
   "metadata": {},
   "outputs": [
    {
     "data": {
      "text/plain": [
       "array([ 1,  1,  2, ...,  0, -1,  0])"
      ]
     },
     "execution_count": 24,
     "metadata": {},
     "output_type": "execute_result"
    }
   ],
   "source": [
    "y = np.array(train['sentiment'])\n",
    "y"
   ]
  },
  {
   "cell_type": "markdown",
   "id": "ae10b674-3719-4d4c-892b-13c175b5379c",
   "metadata": {},
   "source": [
    "### Test dataset.......?\n",
    "\n",
    "Remember to apply all your cleaning and engineering steps to your test dataset too!"
   ]
  },
  {
   "cell_type": "markdown",
   "id": "d05094e2-1dcb-4537-b4a1-0627b1b781cb",
   "metadata": {},
   "source": [
    "---"
   ]
  },
  {
   "cell_type": "markdown",
   "id": "6fb7c503-773c-4f9c-9d4f-b1f65c4576c5",
   "metadata": {},
   "source": [
    "## 5. Modelling"
   ]
  },
  {
   "cell_type": "code",
   "execution_count": 25,
   "id": "7c7906de-6da1-4e95-97c8-cb839d10ee7a",
   "metadata": {},
   "outputs": [],
   "source": [
    "# split up our data\n",
    "from sklearn.model_selection import train_test_split\n",
    "\n",
    "X_train, X_test, y_train, y_test = train_test_split(tfidf, train['sentiment'], test_size = 0.2, random_state = 42)"
   ]
  },
  {
   "cell_type": "code",
   "execution_count": 26,
   "id": "dc2779bc-fa73-4f07-9632-9943ef40dfa4",
   "metadata": {},
   "outputs": [
    {
     "name": "stdout",
     "output_type": "stream",
     "text": [
      "              precision    recall  f1-score   support\n",
      "\n",
      "          -1       0.74      0.51      0.61       278\n",
      "           0       0.57      0.47      0.52       425\n",
      "           1       0.80      0.86      0.83      1755\n",
      "           2       0.76      0.80      0.78       706\n",
      "\n",
      "    accuracy                           0.76      3164\n",
      "   macro avg       0.72      0.66      0.68      3164\n",
      "weighted avg       0.76      0.76      0.76      3164\n",
      "\n"
     ]
    },
    {
     "name": "stderr",
     "output_type": "stream",
     "text": [
      "/home/schup001/.virtualenv/onboarding_example/lib/python3.6/site-packages/sklearn/linear_model/_logistic.py:940: ConvergenceWarning: lbfgs failed to converge (status=1):\n",
      "STOP: TOTAL NO. of ITERATIONS REACHED LIMIT.\n",
      "\n",
      "Increase the number of iterations (max_iter) or scale the data as shown in:\n",
      "    https://scikit-learn.org/stable/modules/preprocessing.html\n",
      "Please also refer to the documentation for alternative solver options:\n",
      "    https://scikit-learn.org/stable/modules/linear_model.html#logistic-regression\n",
      "  extra_warning_msg=_LOGISTIC_SOLVER_CONVERGENCE_MSG)\n"
     ]
    }
   ],
   "source": [
    "# fit a Logistic Regression model\n",
    "\n",
    "from sklearn.linear_model import LogisticRegression\n",
    "from sklearn.metrics import classification_report\n",
    "lr = LogisticRegression(\n",
    "    #solver = 'newton-cg',\n",
    "    class_weight = 'balanced',\n",
    "    random_state = 42,\n",
    "    multi_class = 'multinomial',\n",
    "    C = 60,\n",
    "    max_iter = 100\n",
    "    ).fit(X_train,y_train)\n",
    "\n",
    "y_pred = lr.predict(X_test)\n",
    "print(classification_report(y_test, y_pred, labels=[-1,0,1,2]))"
   ]
  },
  {
   "cell_type": "code",
   "execution_count": 17,
   "id": "01adb052-4d86-49a5-89a1-2b56bbdc161f",
   "metadata": {},
   "outputs": [],
   "source": [
    "from sklearn.model_selection import GridSearchCV\n",
    "from sklearn.tree import DecisionTreeClassifier\n",
    "#Grid search to find best version of DecisionTree\n",
    "clean_forrest = DecisionTreeClassifier(class_weight ='balanced')\n",
    "\n",
    "parameters = {'criterion': ['gini', 'entropy']\n",
    "            ,'max_depth': np.arange(5,26,5).tolist()\n",
    "            ,'min_samples_leaf': np.arange(4,21,2).tolist()\n",
    "            #,'class_weight': 'balanced'\n",
    "            ,'random_state': [42]}\n",
    "gs_dtc = GridSearchCV(clean_forrest, parameters)\n",
    "gs_dtc.fit(X_train,y_train)\n",
    "\n",
    "y_pred = gs_dtc.predict(X_test)\n",
    "print(classification_report(y_test, y_pred, labels=[-1,0,1,2]))"
   ]
  },
  {
   "cell_type": "code",
   "execution_count": 18,
   "id": "7d77fd29-ab86-465c-bbde-7cc17ae08931",
   "metadata": {},
   "outputs": [],
   "source": [
    "from sklearn.ensemble import RandomForestClassifier\n",
    "#Grid search to find best version of RandomForrest\n",
    "clean_rf = RandomForestClassifier()\n",
    "\n",
    "parameters = {'criterion': ['gini', 'entropy', 'logloss']\n",
    "            , 'n_estimators': np.arange(20,101,20).tolist()\n",
    "            ,'max_depth': np.arange(5,26,5).tolist()\n",
    "            ,'min_samples_leaf': np.arange(4,21,2).tolist()\n",
    "            ,'class_weight': ['balanced','balanced_subsample']\n",
    "            ,'random_state': [42]}\n",
    "gs_rf = GridSearchCV(clean_rf, parameters)\n",
    "gs_rf.fit(X_train,y_train)\n",
    "\n",
    "y_pred = gs_rf.predict(X_test)\n",
    "print(classification_report(y_test, y_pred, labels=[-1,0,1,2]))"
   ]
  },
  {
   "cell_type": "code",
   "execution_count": null,
   "id": "2c568323-76ef-4f88-b753-3ebcde99e65d",
   "metadata": {},
   "outputs": [],
   "source": [
    "from sklearn.neural_network import MLPClassifier\n",
    "#Grid search to find best version of MLP\n",
    "clean_mlp = MLPClassifier()\n",
    "\n",
    "parameters = {\n",
    "            'n_estimators':[[10,10],[5,5],[20,20],[10,5],[20,10]]\n",
    "            ,'activation':['tanh','logistic','relu']\n",
    "            ,'learning_rate': ['constant','adaptive']\n",
    "            ,'random_state': [42]}\n",
    "gs_mlp = GridSearchCV(clean_mlp, parameters)\n",
    "gs_mlp.fit(X_train,y_train)\n",
    "\n",
    "y_pred = gs_mlp.predict(X_test)\n",
    "print(classification_report(y_test, y_pred, labels=[-1,0,1,2]))"
   ]
  },
  {
   "cell_type": "markdown",
   "id": "0e5d431d",
   "metadata": {},
   "source": [
    "#### Final Model Predictions\n",
    "My best model after the gridsearch was the logistic regression I trained first, it's ability to regularize seems to have won it the top spot.\n",
    "\n",
    "I would recommend going deeper with the grid search parameters for future versions since the other models could have potentially performed better given a better chance"
   ]
  },
  {
   "cell_type": "markdown",
   "id": "8e3be86e",
   "metadata": {},
   "source": [
    "#### Transform Test data"
   ]
  },
  {
   "cell_type": "code",
   "execution_count": 27,
   "id": "4da1ee9a-89a1-4b57-a37b-b08d8118e277",
   "metadata": {},
   "outputs": [],
   "source": [
    "#Apply all steps to the test data\n",
    "df_pred = tokens_from_dataframe(test,'message')\n",
    "text_from_tokens = []\n",
    "for index, row in df_pred.iterrows():\n",
    "    text_from_tokens.append(\" \".join(row['tokens']))\n",
    "column = 'tokens'+'_full_str'\n",
    "df_pred[column] = text_from_tokens\n",
    "test = tfidf_vectorizer.transform(df_pred[column])\n",
    "y_pred = lr.predict(test)"
   ]
  },
  {
   "cell_type": "markdown",
   "id": "91bb68f7",
   "metadata": {},
   "source": [
    "Now we are aware of many more classification models - remember to try out at least **three** to allow you to make comparisons between their performances"
   ]
  },
  {
   "cell_type": "markdown",
   "id": "51244d21-f447-4d63-bc4a-dc0113f40621",
   "metadata": {},
   "source": [
    "---"
   ]
  },
  {
   "cell_type": "markdown",
   "id": "c1fed861-f483-45e5-91e6-3bb3c5e4c647",
   "metadata": {},
   "source": [
    "## 6. Model Performance"
   ]
  },
  {
   "cell_type": "code",
   "execution_count": 23,
   "id": "c89b8f0d-8006-416c-8fce-afa33d652732",
   "metadata": {},
   "outputs": [],
   "source": [
    "# Calculate accuracy score\n",
    "acc = accuracy_score(y_test, y_pred)\n",
    "\n",
    "# Calculate F1 score\n",
    "f1 = f1_score(y_test, y_pred, average='micro')\n",
    "\n",
    "# Calculate precision score\n",
    "prec = precision_score(y_test, y_pred, average='micro')\n",
    "\n",
    "# Calculate recall score\n",
    "rec = recall_score(y_test, y_pred, average='micro')\n"
   ]
  },
  {
   "cell_type": "markdown",
   "id": "3410211a",
   "metadata": {},
   "source": [
    "### Additional note from our webinar discussion:\n",
    "\n",
    "Regarding the 'average' parameter with each of these scoring methods, which 'average' do we use? This is the difference between them, particularly for f1 scores (all images taken from [this link](https://iamirmasoud.com/2022/06/19/understanding-micro-macro-and-weighted-averages-for-scikit-learn-metrics-in-multi-class-classification-with-example/), which has a nice discussion of the difference in these averages for f1 scores):\n",
    "\n",
    "- **Micro**: Calculates metric based on the **total** number of True Positives, False Positives and True Negatives, rather than looking at predicitons per-class. \n",
    "\n",
    "![](https://iamirmasoud.com/wp-content/uploads/2023/04/image-39.png)\n",
    "\n",
    "- **Macro**: Calculates the average metrics score across all classes metric scores, *without* taking into account the size of each class (does not account for any imbalanced data)\n",
    "\n",
    "![](https://iamirmasoud.com/wp-content/uploads/2023/04/image-34.png)\n",
    "\n",
    "- **Weighted**: Calculates the average metrics score across all classes metric scores, *while* taking into account the size of each class\n",
    "\n",
    "![](https://miro.medium.com/v2/resize:fit:1400/1*0SN1NHpAz154YOjgBLCCYw.png)\n"
   ]
  },
  {
   "cell_type": "code",
   "execution_count": 27,
   "id": "353afbf1-8b4a-4c78-a112-667554eb2824",
   "metadata": {},
   "outputs": [
    {
     "data": {
      "text/plain": [
       "0.7493678887484196"
      ]
     },
     "execution_count": 27,
     "metadata": {},
     "output_type": "execute_result"
    }
   ],
   "source": [
    "f1"
   ]
  },
  {
   "cell_type": "code",
   "execution_count": 28,
   "id": "9b29bbbf-849a-470b-9ce8-72f82fb58449",
   "metadata": {},
   "outputs": [
    {
     "name": "stdout",
     "output_type": "stream",
     "text": [
      "              precision    recall  f1-score   support\n",
      "\n",
      "          -1       0.69      0.46      0.55       278\n",
      "           0       0.55      0.50      0.52       425\n",
      "           1       0.79      0.84      0.81      1755\n",
      "           2       0.76      0.80      0.78       706\n",
      "\n",
      "    accuracy                           0.75      3164\n",
      "   macro avg       0.70      0.65      0.67      3164\n",
      "weighted avg       0.74      0.75      0.74      3164\n",
      "\n"
     ]
    }
   ],
   "source": [
    "#from sklearn.metrics import classification_report\n",
    "\n",
    "print(classification_report(y_test, y_pred, target_names = ['-1', '0', '1', '2']))"
   ]
  },
  {
   "attachments": {
    "407f5711-201d-431d-8cf1-f307a6a79cb6.png": {
     "image/png": "[encoded data removed]"
    }
   },
   "cell_type": "markdown",
   "id": "6cba0efc-1ff7-42fd-ad7d-062b9381f24d",
   "metadata": {},
   "source": [
    "![Screenshot 2023-12-12 at 16.40.33.png](attachment:407f5711-201d-431d-8cf1-f307a6a79cb6.png)"
   ]
  },
  {
   "cell_type": "markdown",
   "id": "bfef09a4",
   "metadata": {},
   "source": [
    "Implement some hyperparameter tuning or use of GridSearch to help you improve model performance\n",
    "\n",
    "Are there any other steps that one could use to improve models? Think about if anything else could be applied in the Feature Engineering stages..."
   ]
  },
  {
   "cell_type": "markdown",
   "id": "51804dd0-c783-4435-9199-f05f80e535f6",
   "metadata": {},
   "source": [
    "## Create a  \".CSV\" File"
   ]
  },
  {
   "cell_type": "markdown",
   "id": "80aa13a6",
   "metadata": {},
   "source": [
    "Remember we still need to apply our model to our test data to submit to Kaggle.\n",
    "\n",
    "- Make sure the test data is cleaned/engineered in the same way as our training data\n",
    "- Use our trained model to make predictions on the prepped test data\n",
    "- Take the tweetid column from the original test data, and our predictions from our model to create a new dataframe with those two columns\n",
    "- Export to CSV\n",
    "- Submit to Kaggle"
   ]
  },
  {
   "cell_type": "code",
   "execution_count": 28,
   "id": "8082e20c-a4b0-4b37-bee1-6fae9be30dec",
   "metadata": {},
   "outputs": [],
   "source": [
    "#Final model prediction for submission\n",
    "values = np.vstack((df_pred['tweetid'],y_pred)).T\n",
    "pd.DataFrame(values,columns = ['tweetid','sentiment']).to_csv('submission.csv',index=False)"
   ]
  },
  {
   "cell_type": "code",
   "execution_count": null,
   "id": "74c79a55",
   "metadata": {},
   "outputs": [],
   "source": []
  }
 ],
 "metadata": {
  "kernelspec": {
   "display_name": "Python 3",
   "language": "python",
   "name": "python3"
  },
  "language_info": {
   "codemirror_mode": {
    "name": "ipython",
    "version": 3
   },
   "file_extension": ".py",
   "mimetype": "text/x-python",
   "name": "python",
   "nbconvert_exporter": "python",
   "pygments_lexer": "ipython3",
   "version": "3.6.13"
  }
 },
 "nbformat": 4,
 "nbformat_minor": 5
}
